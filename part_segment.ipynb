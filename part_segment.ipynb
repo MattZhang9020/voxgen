{
 "cells": [
  {
   "cell_type": "code",
   "execution_count": null,
   "metadata": {},
   "outputs": [],
   "source": [
    "import sys\n",
    "sys.dont_write_bytecode=True\n",
    "\n",
    "import os\n",
    "\n",
    "import torch\n",
    "\n",
    "from modules import VoxelDataset\n",
    "from modules import Decoder\n",
    "from modules import LatentVariables\n",
    "from modules import BinaryFocalLoss\n",
    "from modules import plot_objt_by_dataset, plot_objt_by_latents\n",
    "\n",
    "from torch import optim\n",
    "from torch.backends import cudnn\n",
    "\n",
    "from tqdm import tqdm\n",
    "\n",
    "cudnn.benchmark = True\n",
    "\n",
    "device = 'cuda'"
   ]
  },
  {
   "cell_type": "code",
   "execution_count": null,
   "metadata": {},
   "outputs": [],
   "source": [
    "pram = {\n",
    "    'data_dir_pth': './dataset/chair_voxel_data_remove_duplicate',\n",
    "    'part_counts_npy_pth': './dataset/each_chair_parts_count_remove_duplicate.npy',\n",
    "    'outlier_objt_indices_npy_pth': './dataset/outlier_objt_indices.npy',\n",
    "    'batch_size': 1,\n",
    "    'voxel_map_shape': (128, 128, 128),\n",
    "    'designate_num_objts': 10,\n",
    "    'train_test_split_ratio_train': 0.9,\n",
    "    'latent_dim': (64, 64),\n",
    "    'decoder_lr': 3e-5,\n",
    "    'latents_lr': 3e-4,\n",
    "}"
   ]
  },
  {
   "cell_type": "code",
   "execution_count": null,
   "metadata": {},
   "outputs": [],
   "source": [
    "train_dataset = VoxelDataset(pram['data_dir_pth'],\n",
    "                             pram['part_counts_npy_pth'],\n",
    "                             pram['outlier_objt_indices_npy_pth'],\n",
    "                             designate_num_objts=pram['designate_num_objts'],\n",
    "                             train_test_split_ratio_train=pram['train_test_split_ratio_train'],\n",
    "                             is_train=True)"
   ]
  },
  {
   "cell_type": "code",
   "execution_count": null,
   "metadata": {},
   "outputs": [],
   "source": [
    "test_dataset = VoxelDataset(pram['data_dir_pth'],\n",
    "                            pram['part_counts_npy_pth'],\n",
    "                            pram['outlier_objt_indices_npy_pth'],\n",
    "                            designate_num_objts=pram['designate_num_objts'],\n",
    "                            train_test_split_ratio_train=pram['train_test_split_ratio_train'],\n",
    "                            is_train=False)"
   ]
  },
  {
   "cell_type": "code",
   "execution_count": null,
   "metadata": {},
   "outputs": [],
   "source": [
    "decoder = Decoder(pram['latent_dim'], vd_ch=8).to(device)"
   ]
  },
  {
   "cell_type": "code",
   "execution_count": null,
   "metadata": {},
   "outputs": [],
   "source": [
    "# saved_ckpt = torch.load('./models/encoder_decoder_saved.pt')"
   ]
  },
  {
   "cell_type": "code",
   "execution_count": null,
   "metadata": {},
   "outputs": [],
   "source": [
    "# decoder.load_state_dict(saved_ckpt['decoder_state_dict'])"
   ]
  },
  {
   "cell_type": "code",
   "execution_count": null,
   "metadata": {},
   "outputs": [],
   "source": [
    "USER_DEFINED_PARTS_NUM = 30\n",
    "\n",
    "latent_vars = LatentVariables(USER_DEFINED_PARTS_NUM, pram['latent_dim']).to(device)"
   ]
  },
  {
   "cell_type": "code",
   "execution_count": null,
   "metadata": {},
   "outputs": [],
   "source": [
    "latents_optim = optim.AdamW(latent_vars.parameters(), lr=pram['latents_lr'])"
   ]
  },
  {
   "cell_type": "code",
   "execution_count": null,
   "metadata": {},
   "outputs": [],
   "source": [
    "loss_fn = BinaryFocalLoss(gamma=5, alpha=0.8)"
   ]
  },
  {
   "cell_type": "code",
   "execution_count": null,
   "metadata": {},
   "outputs": [],
   "source": [
    "def train_step(target):\n",
    "    latents_optim.zero_grad()\n",
    "    \n",
    "    latents = latent_vars(None)[0]\n",
    "        \n",
    "    outputs = []\n",
    "    for latent in latents:\n",
    "        outputs.append(decoder(latent.view(1, 1, *latent.shape)))\n",
    "    outputs = torch.stack(outputs, dim=1)[0]\n",
    "            \n",
    "    pred_voxels = torch.sum(torch.sigmoid(outputs), dim=0)\n",
    "        \n",
    "    loss = loss_fn(pred_voxels, target)\n",
    "    loss.backward()\n",
    "    \n",
    "    latents_optim.step()\n",
    "\n",
    "    return loss"
   ]
  },
  {
   "cell_type": "code",
   "execution_count": null,
   "metadata": {},
   "outputs": [],
   "source": [
    "epoch = 0\n",
    "best_loss = float('inf')\n",
    "no_improvement_cnt = 0\n",
    "\n",
    "decoder.eval()\n",
    "latent_vars.train()\n",
    "\n",
    "dataset = train_dataset\n",
    "target_idx = 0\n",
    "\n",
    "base_idx = sum(dataset.each_chair_part_counts[:target_idx])\n",
    "\n",
    "target_voxel_map = torch.zeros(pram['voxel_map_shape'], dtype=torch.float32, device=device)\n",
    "\n",
    "for i in range(base_idx, base_idx+dataset.each_chair_part_counts[target_idx]):\n",
    "    for x, y, z in dataset.parts_voxel_coords[i]:\n",
    "        target_voxel_map[x, y, z] = 1.0\n",
    "\n",
    "target_voxel_map = target_voxel_map.view(1, *target_voxel_map.shape)\n",
    "\n",
    "pbar = tqdm()\n",
    "\n",
    "while True:\n",
    "    loss = train_step(target_voxel_map)\n",
    "    \n",
    "    if loss < best_loss:\n",
    "        best_loss = loss\n",
    "        no_improvement_cnt = 0\n",
    "    else:\n",
    "        no_improvement_cnt += 1\n",
    "\n",
    "    if no_improvement_cnt == 3:\n",
    "        print('No Improvement Count Reached.')\n",
    "        break\n",
    "    \n",
    "    pbar.set_postfix_str('Loss: {:.6f}'.format(loss))\n",
    "    pbar.update(1)"
   ]
  },
  {
   "cell_type": "code",
   "execution_count": null,
   "metadata": {},
   "outputs": [],
   "source": [
    "plot_objt_by_latents(decoder, latent_vars.latents)"
   ]
  }
 ],
 "metadata": {
  "kernelspec": {
   "display_name": "lab",
   "language": "python",
   "name": "python3"
  },
  "language_info": {
   "codemirror_mode": {
    "name": "ipython",
    "version": 3
   },
   "file_extension": ".py",
   "mimetype": "text/x-python",
   "name": "python",
   "nbconvert_exporter": "python",
   "pygments_lexer": "ipython3",
   "version": "3.8.19"
  }
 },
 "nbformat": 4,
 "nbformat_minor": 2
}
