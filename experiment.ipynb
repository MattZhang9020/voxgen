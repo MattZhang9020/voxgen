{
 "cells": [
  {
   "cell_type": "code",
   "execution_count": null,
   "metadata": {},
   "outputs": [],
   "source": [
    "import sys\n",
    "sys.dont_write_bytecode=True\n",
    "\n",
    "import os\n",
    "\n",
    "import torch\n",
    "\n",
    "from modules import VoxelDataset\n",
    "from modules import Encoder\n",
    "from modules import Decoder\n",
    "from modules import plot_objt_by_dataset, plot_objt_by_models, plot_part_by_voxel_coords, dataloader_collate_fn, get_voxel_map\n",
    "\n",
    "from torch.utils.data import DataLoader\n",
    "from torch.backends import cudnn\n",
    "\n",
    "from tqdm import tqdm\n",
    "\n",
    "cudnn.benchmark = True\n",
    "\n",
    "device = 'cuda'"
   ]
  },
  {
   "cell_type": "code",
   "execution_count": null,
   "metadata": {},
   "outputs": [],
   "source": [
    "pram = {\n",
    "    'data_dir_pth': './dataset/chair_voxel_data_remove_duplicate',\n",
    "    'part_counts_npy_pth': './dataset/each_chair_parts_count_remove_duplicate.npy',\n",
    "    'outlier_objt_indices_npy_pth': './dataset/outlier_objt_indices.npy',\n",
    "    'batch_size': 1,\n",
    "    'voxel_map_shape': (128, 128, 128),\n",
    "    'train_test_split_ratio_train': 0.9,\n",
    "    'latent_dim': (64, 64),\n",
    "    'decoder_lr': 3e-5,\n",
    "    'encoder_lr': 3e-5,\n",
    "}"
   ]
  },
  {
   "cell_type": "code",
   "execution_count": null,
   "metadata": {},
   "outputs": [],
   "source": [
    "train_dataset = VoxelDataset(pram['data_dir_pth'],\n",
    "                             pram['part_counts_npy_pth'],\n",
    "                             pram['outlier_objt_indices_npy_pth'],\n",
    "                             designate_num_objts=None,\n",
    "                             train_test_split_ratio_train=pram['train_test_split_ratio_train'],\n",
    "                             is_train=True)\n",
    "\n",
    "train_dataloader = DataLoader(train_dataset,\n",
    "                              batch_size=pram['batch_size'],\n",
    "                              shuffle=False,\n",
    "                              collate_fn=dataloader_collate_fn,\n",
    "                              pin_memory=True)"
   ]
  },
  {
   "cell_type": "code",
   "execution_count": null,
   "metadata": {},
   "outputs": [],
   "source": [
    "test_dataset = VoxelDataset(pram['data_dir_pth'],\n",
    "                            pram['part_counts_npy_pth'],\n",
    "                            pram['outlier_objt_indices_npy_pth'],\n",
    "                            designate_num_objts=None,\n",
    "                            train_test_split_ratio_train=pram['train_test_split_ratio_train'],\n",
    "                            is_train=False)\n",
    "\n",
    "test_dataloader = DataLoader(test_dataset,\n",
    "                             batch_size=1,\n",
    "                             shuffle=False,\n",
    "                             collate_fn=dataloader_collate_fn,\n",
    "                             pin_memory=True)"
   ]
  },
  {
   "cell_type": "code",
   "execution_count": null,
   "metadata": {},
   "outputs": [],
   "source": [
    "encoder = Encoder(pram['latent_dim']).to(device)\n",
    "\n",
    "decoder = Decoder(pram['latent_dim']).to(device)"
   ]
  },
  {
   "cell_type": "code",
   "execution_count": null,
   "metadata": {},
   "outputs": [],
   "source": [
    "saved_ckpt = torch.load('./models/encoder_decoder_saved.pt')"
   ]
  },
  {
   "cell_type": "code",
   "execution_count": null,
   "metadata": {},
   "outputs": [],
   "source": [
    "encoder.load_state_dict(saved_ckpt['encoder_state_dict'])\n",
    "\n",
    "decoder.load_state_dict(saved_ckpt['decoder_state_dict'])"
   ]
  },
  {
   "cell_type": "code",
   "execution_count": null,
   "metadata": {},
   "outputs": [],
   "source": [
    "encoder.eval()\n",
    "\n",
    "decoder.eval()\n",
    "\n",
    "pass"
   ]
  },
  {
   "cell_type": "code",
   "execution_count": null,
   "metadata": {},
   "outputs": [],
   "source": [
    "voxel = get_voxel_map(test_dataset[0], device)\n",
    "voxel = voxel.view(1, 1, *voxel.shape)"
   ]
  },
  {
   "cell_type": "code",
   "execution_count": null,
   "metadata": {},
   "outputs": [],
   "source": [
    "latent = torch.rand((1, 1, 64, 64), device=device)\n",
    "\n",
    "pred = torch.sigmoid(decoder(latent))\n",
    "\n",
    "torch.max(pred)"
   ]
  },
  {
   "cell_type": "code",
   "execution_count": null,
   "metadata": {},
   "outputs": [],
   "source": [
    "(pred > 0.5).nonzero().shape"
   ]
  },
  {
   "cell_type": "code",
   "execution_count": null,
   "metadata": {},
   "outputs": [],
   "source": [
    "plot_objt_by_dataset(test_dataset, 3)"
   ]
  },
  {
   "cell_type": "code",
   "execution_count": null,
   "metadata": {},
   "outputs": [],
   "source": [
    "plot_objt_by_models(encoder, decoder, test_dataset, 0, 0.5, device)"
   ]
  }
 ],
 "metadata": {
  "kernelspec": {
   "display_name": "lab",
   "language": "python",
   "name": "python3"
  },
  "language_info": {
   "codemirror_mode": {
    "name": "ipython",
    "version": 3
   },
   "file_extension": ".py",
   "mimetype": "text/x-python",
   "name": "python",
   "nbconvert_exporter": "python",
   "pygments_lexer": "ipython3",
   "version": "3.8.19"
  }
 },
 "nbformat": 4,
 "nbformat_minor": 2
}
