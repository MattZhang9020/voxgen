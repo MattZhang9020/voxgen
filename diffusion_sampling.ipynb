{
 "cells": [
  {
   "cell_type": "code",
   "execution_count": null,
   "metadata": {},
   "outputs": [],
   "source": [
    "import sys\n",
    "sys.dont_write_bytecode=True\n",
    "\n",
    "import os\n",
    "\n",
    "import torch\n",
    "\n",
    "from modules import VoxelDataset\n",
    "from modules import Diffusion\n",
    "from modules import Encoder\n",
    "from modules import Decoder\n",
    "from modules import VanillaDiffusionSampler\n",
    "\n",
    "from torch.utils.data import DataLoader\n",
    "from torch.backends import cudnn\n",
    "\n",
    "from tqdm import tqdm\n",
    "\n",
    "cudnn.benchmark = True\n",
    "\n",
    "device = 'cuda'"
   ]
  },
  {
   "cell_type": "code",
   "execution_count": null,
   "metadata": {},
   "outputs": [],
   "source": [
    "pram = {\n",
    "    'data_dir_pth': './dataset/chair_voxel_data_remove_duplicate',\n",
    "    'part_counts_npy_pth': './dataset/each_chair_parts_count_remove_duplicate.npy',\n",
    "    'outlier_objt_indices_npy_pth': './dataset/outlier_objt_indices.npy',\n",
    "    'batch_size': 1,\n",
    "    'voxel_map_shape': (128, 128, 128),\n",
    "    'designate_num_objts': 1,\n",
    "    'train_test_split_ratio_train': 1,\n",
    "    'latent_dim': (64, 64),\n",
    "    'beta_start': 1e-4,\n",
    "    'beta_end': 2e-2,\n",
    "    'time_steps': 1000,\n",
    "    'warmup': 10\n",
    "}"
   ]
  },
  {
   "cell_type": "code",
   "execution_count": null,
   "metadata": {},
   "outputs": [],
   "source": [
    "diffusion = Diffusion().to(device)\n",
    "\n",
    "saved_ckpt = torch.load('./models/diffusion_saved.pt')\n",
    "\n",
    "diffusion.load_state_dict(saved_ckpt['diffusion_state_dict'])"
   ]
  },
  {
   "cell_type": "code",
   "execution_count": null,
   "metadata": {},
   "outputs": [],
   "source": [
    "decoder = Decoder(pram['latent_dim'], vd_ch=8).to(device)\n",
    "\n",
    "saved_ckpt = torch.load('./models/encoder_decoder_8.pt')\n",
    "\n",
    "decoder.load_state_dict(saved_ckpt['decoder_state_dict'])"
   ]
  },
  {
   "cell_type": "code",
   "execution_count": null,
   "metadata": {},
   "outputs": [],
   "source": [
    "sampler = VanillaDiffusionSampler(diffusion, pram['beta_start'], pram['beta_end'], pram['time_steps']).to(device)"
   ]
  },
  {
   "cell_type": "code",
   "execution_count": null,
   "metadata": {},
   "outputs": [],
   "source": [
    "x_T = torch.randn((pram['batch_size'], 1, *pram['latent_dim']), device=device)\n",
    "\n",
    "x_t = x_T\n",
    "for time_step in tqdm(reversed(range(pram['time_steps']))):\n",
    "    x_t = sampler(x_t, time_step)\n",
    "x_0 = x_t"
   ]
  },
  {
   "cell_type": "code",
   "execution_count": null,
   "metadata": {},
   "outputs": [],
   "source": [
    "pred = torch.sigmoid(decoder(x_0))\n",
    "\n",
    "torch.max(pred)"
   ]
  }
 ],
 "metadata": {
  "kernelspec": {
   "display_name": "lab",
   "language": "python",
   "name": "python3"
  },
  "language_info": {
   "codemirror_mode": {
    "name": "ipython",
    "version": 3
   },
   "file_extension": ".py",
   "mimetype": "text/x-python",
   "name": "python",
   "nbconvert_exporter": "python",
   "pygments_lexer": "ipython3",
   "version": "3.8.19"
  }
 },
 "nbformat": 4,
 "nbformat_minor": 2
}
