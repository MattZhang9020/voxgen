{
 "cells": [
  {
   "cell_type": "code",
   "execution_count": null,
   "metadata": {},
   "outputs": [],
   "source": [
    "import sys\n",
    "sys.dont_write_bytecode=True\n",
    "\n",
    "import os\n",
    "\n",
    "import torch\n",
    "\n",
    "from modules import VoxelDataset, LatentDataset\n",
    "from modules import Diffusion\n",
    "from modules import Encoder\n",
    "from modules import Decoder\n",
    "from modules import DiffusionTrainer\n",
    "from modules import VanillaDiffusionSampler, KEulerDiffusionSampler\n",
    "from modules import plot_part_by_voxel_coords, plot_objt_by_latents\n",
    "\n",
    "from torch.utils.data import DataLoader\n",
    "from torch.backends import cudnn\n",
    "\n",
    "from tqdm import tqdm\n",
    "\n",
    "cudnn.benchmark = True\n",
    "\n",
    "device = 'cuda'"
   ]
  },
  {
   "cell_type": "code",
   "execution_count": null,
   "metadata": {},
   "outputs": [],
   "source": [
    "pram = {\n",
    "    'data_dir_pth': './dataset/chair_voxel_data_remove_duplicate',\n",
    "    'part_counts_npy_pth': './dataset/each_chair_parts_count_remove_duplicate.npy',\n",
    "    'outlier_objt_indices_npy_pth': './dataset/outlier_objt_indices.npy',\n",
    "    'latents_remove_duplicate_npy_pth': './dataset/latents_remove_duplicate.npy',\n",
    "    'batch_size': 1,\n",
    "    'voxel_map_shape': (128, 128, 128),\n",
    "    'designate_num_objts': 1,\n",
    "    'train_test_split_ratio_train': 1,\n",
    "    'latent_dim': (64, 64),\n",
    "    'beta_start': 1e-4,\n",
    "    'beta_end': 2e-2,\n",
    "    'training_steps': 1000,\n",
    "    'inference_steps': 40,\n",
    "    'warmup': 10\n",
    "}"
   ]
  },
  {
   "cell_type": "code",
   "execution_count": null,
   "metadata": {},
   "outputs": [],
   "source": [
    "decoder = Decoder(pram['latent_dim']).to(device)\n",
    "\n",
    "saved_ckpt = torch.load('./models/encoder_decoder_8.pt')\n",
    "\n",
    "decoder.load_state_dict(saved_ckpt['decoder_state_dict'])"
   ]
  },
  {
   "cell_type": "code",
   "execution_count": null,
   "metadata": {},
   "outputs": [],
   "source": [
    "train_dataset = LatentDataset(pram['latents_remove_duplicate_npy_pth'])\n",
    "\n",
    "part_latent = torch.tensor(train_dataset[0], device=device)\n",
    "part_latent = part_latent.view(1, *part_latent.shape)"
   ]
  },
  {
   "cell_type": "code",
   "execution_count": null,
   "metadata": {},
   "outputs": [],
   "source": [
    "# pred_part = torch.sigmoid(decoder(part_latent))\n",
    "# (pred_part > 0.5).nonzero().shape"
   ]
  },
  {
   "cell_type": "code",
   "execution_count": null,
   "metadata": {},
   "outputs": [],
   "source": [
    "# voxel_coords = (pred_part > 0.5).nonzero()[:, 2:]"
   ]
  },
  {
   "cell_type": "code",
   "execution_count": null,
   "metadata": {},
   "outputs": [],
   "source": [
    "# plot_part_by_voxel_coords(voxel_coords)"
   ]
  },
  {
   "cell_type": "code",
   "execution_count": null,
   "metadata": {},
   "outputs": [],
   "source": [
    "diffusion = Diffusion().to(device)\n",
    "\n",
    "saved_ckpt = torch.load('./models/diffusion_saved.pt')\n",
    "\n",
    "diffusion.load_state_dict(saved_ckpt['diffusion_state_dict'])"
   ]
  },
  {
   "cell_type": "code",
   "execution_count": null,
   "metadata": {},
   "outputs": [],
   "source": [
    "trainer = DiffusionTrainer(diffusion,\n",
    "                           pram['beta_start'],\n",
    "                           pram['beta_end'],\n",
    "                           pram['training_steps']).to(device)"
   ]
  },
  {
   "cell_type": "code",
   "execution_count": null,
   "metadata": {},
   "outputs": [],
   "source": [
    "noised_part_latent = trainer.get_x_T(part_latent)"
   ]
  },
  {
   "cell_type": "code",
   "execution_count": null,
   "metadata": {},
   "outputs": [],
   "source": [
    "vanilla_sampler = VanillaDiffusionSampler(diffusion,\n",
    "                                          pram['beta_start'],\n",
    "                                          pram['beta_end'],\n",
    "                                          pram['training_steps']).to(device)"
   ]
  },
  {
   "cell_type": "code",
   "execution_count": null,
   "metadata": {},
   "outputs": [],
   "source": [
    "x_T = torch.randn((pram['batch_size'], 1, *pram['latent_dim']), device=device)\n",
    "x_T = noised_part_latent\n",
    "\n",
    "x_t = x_T\n",
    "for time_step in tqdm(reversed(range(pram['training_steps']))):\n",
    "    x_t = vanilla_sampler(x_t, time_step)\n",
    "x_0 = x_t"
   ]
  },
  {
   "cell_type": "code",
   "execution_count": null,
   "metadata": {},
   "outputs": [],
   "source": [
    "# euler_sampler = KEulerDiffusionSampler(diffusion,\n",
    "#                                        pram['beta_start'],\n",
    "#                                        pram['beta_end'],\n",
    "#                                        pram['inference_steps'],\n",
    "#                                        pram['training_steps']).to(device)"
   ]
  },
  {
   "cell_type": "code",
   "execution_count": null,
   "metadata": {},
   "outputs": [],
   "source": [
    "# x_T = noised_part_latent\n",
    "\n",
    "# for time_step in tqdm(range(pram['inference_steps'])):\n",
    "#     x_T = euler_sampler(x_T, time_step)\n",
    "# x_0 = x_T"
   ]
  },
  {
   "cell_type": "code",
   "execution_count": null,
   "metadata": {},
   "outputs": [],
   "source": [
    "pred_part = torch.sigmoid(decoder(x_0))\n",
    "\n",
    "torch.max(pred_part)"
   ]
  },
  {
   "cell_type": "code",
   "execution_count": null,
   "metadata": {},
   "outputs": [],
   "source": [
    "(pred_part > 0.6).nonzero().shape"
   ]
  },
  {
   "cell_type": "code",
   "execution_count": null,
   "metadata": {},
   "outputs": [],
   "source": [
    "voxel_coords = (pred_part > 0.5).nonzero()[:, 2:]\n",
    "plot_part_by_voxel_coords(voxel_coords)"
   ]
  }
 ],
 "metadata": {
  "kernelspec": {
   "display_name": "lab",
   "language": "python",
   "name": "python3"
  },
  "language_info": {
   "codemirror_mode": {
    "name": "ipython",
    "version": 3
   },
   "file_extension": ".py",
   "mimetype": "text/x-python",
   "name": "python",
   "nbconvert_exporter": "python",
   "pygments_lexer": "ipython3",
   "version": "3.8.19"
  }
 },
 "nbformat": 4,
 "nbformat_minor": 2
}
