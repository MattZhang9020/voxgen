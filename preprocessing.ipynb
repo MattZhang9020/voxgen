{
 "cells": [
  {
   "cell_type": "code",
   "execution_count": null,
   "metadata": {},
   "outputs": [],
   "source": [
    "import os\n",
    "import re\n",
    "import json\n",
    "import random\n",
    "\n",
    "import numpy as np\n",
    "import open3d as o3d\n",
    "import matplotlib.pyplot as plt\n",
    "\n",
    "from tqdm import tqdm"
   ]
  },
  {
   "cell_type": "code",
   "execution_count": null,
   "metadata": {},
   "outputs": [],
   "source": [
    "DATA_PTH = '.\\\\dataset\\\\data_v0'\n",
    "VOX_PTH = '.\\\\dataset\\\\chair_voxel_data'\n",
    "RESOLUTION = 128"
   ]
  },
  {
   "cell_type": "code",
   "execution_count": null,
   "metadata": {},
   "outputs": [],
   "source": [
    "def sorted_alphanumeric(data):\n",
    "    convert = lambda text: int(text) if text.isdigit() else text.lower()\n",
    "    alphanum_key = lambda key: [ convert(c) for c in re.split('([0-9]+)', key) ] \n",
    "    return sorted(data, key=alphanum_key)"
   ]
  },
  {
   "cell_type": "code",
   "execution_count": null,
   "metadata": {},
   "outputs": [],
   "source": [
    "dir_pths = [os.path.join(DATA_PTH, p) for p in sorted_alphanumeric(os.listdir(DATA_PTH))]"
   ]
  },
  {
   "cell_type": "code",
   "execution_count": null,
   "metadata": {},
   "outputs": [],
   "source": [
    "dir_number_with_chair = []\n",
    "\n",
    "for dir_pth in tqdm(dir_pths):\n",
    "    if 'meta.json' in os.listdir(dir_pth):\n",
    "        with open(os.path.join(dir_pth, 'meta.json'), 'r') as f:\n",
    "            j = json.load(f)\n",
    "            if j['model_cat'] == 'Chair':\n",
    "                dir_number = int(dir_pth.split('\\\\')[-1])\n",
    "                dir_number_with_chair.append(dir_number)\n",
    "\n",
    "dir_number_with_chair = np.array(dir_number_with_chair)"
   ]
  },
  {
   "cell_type": "code",
   "execution_count": null,
   "metadata": {},
   "outputs": [],
   "source": [
    "dir_number_with_chair.shape"
   ]
  },
  {
   "cell_type": "code",
   "execution_count": null,
   "metadata": {},
   "outputs": [],
   "source": [
    "np.save('dir_number_with_chair', dir_number_with_chair)"
   ]
  },
  {
   "cell_type": "code",
   "execution_count": null,
   "metadata": {},
   "outputs": [],
   "source": [
    "dir_number_with_chair = np.load('.\\\\dataset\\\\dir_number_with_chair.npy')\n",
    "\n",
    "obj_ct = 0\n",
    "\n",
    "for dir_number in tqdm(dir_number_with_chair):\n",
    "\n",
    "    dir_pth = os.path.join(DATA_PTH, str(dir_number))\n",
    "\n",
    "    obj_dir_pth = os.path.join(dir_pth, 'objs')\n",
    "\n",
    "    voxels = []\n",
    "\n",
    "    for obj_name in sorted_alphanumeric(os.listdir(obj_dir_pth)):\n",
    "\n",
    "        obj_pth = os.path.join(obj_dir_pth, obj_name)\n",
    "\n",
    "        vox_pth = os.path.join(VOX_PTH, str(obj_ct))\n",
    "\n",
    "        obj_ct += 1\n",
    "\n",
    "        mesh = o3d.io.read_triangle_mesh(obj_pth)\n",
    "        mesh.scale(RESOLUTION, center=np.array([0., 0., 0.]))\n",
    "\n",
    "        voxel_grid = o3d.geometry.VoxelGrid.create_from_triangle_mesh(mesh, voxel_size=1)\n",
    "        voxels.append(voxel_grid)\n",
    "\n",
    "    o3d.visualization.draw_geometries([*voxels])"
   ]
  },
  {
   "cell_type": "code",
   "execution_count": null,
   "metadata": {},
   "outputs": [],
   "source": [
    "dir_number_with_chair = np.load('.\\\\dataset\\\\dir_number_with_chair.npy')\n",
    "\n",
    "times = 4\n",
    "split = int(len(dir_number_with_chair) / times)\n",
    "obj_ct = 0\n",
    "\n",
    "for i in range(times):  \n",
    "    all_voxels = []\n",
    "      \n",
    "    for dir_number in tqdm(dir_number_with_chair[i * split: (i+1) * split], desc=\"Processing Meshes\"):\n",
    "        dir_pth = os.path.join(DATA_PTH, str(dir_number))\n",
    "        obj_dir_pth = os.path.join(dir_pth, 'objs')\n",
    "\n",
    "        meshes = []\n",
    "\n",
    "        for obj_name in sorted_alphanumeric(os.listdir(obj_dir_pth)):\n",
    "            obj_pth = os.path.join(obj_dir_pth, obj_name)\n",
    "            meshes.append(o3d.io.read_triangle_mesh(obj_pth))\n",
    "\n",
    "        max_bound = np.max(meshes[0].get_max_bound())\n",
    "        min_bound = np.min(meshes[0].get_min_bound())\n",
    "        mesh_center = 0\n",
    "\n",
    "        for mesh in meshes:\n",
    "            if np.max(mesh.get_max_bound()) > max_bound:\n",
    "                max_bound = np.max(mesh.get_max_bound())\n",
    "            if np.min(mesh.get_min_bound()) < min_bound:\n",
    "                min_bound = np.min(mesh.get_min_bound())\n",
    "            mesh_center += mesh.get_center()\n",
    "\n",
    "        mesh_center = mesh_center / len(meshes)\n",
    "        scale = 1 / max_bound - min_bound\n",
    "        \n",
    "        all_voxels.append([])\n",
    "\n",
    "        for mesh in meshes:\n",
    "            mesh.translate(-mesh_center)  # centering to origin\n",
    "            mesh.scale(RESOLUTION / scale, center=np.array([0., 0., 0.]))\n",
    "\n",
    "            voxel_grid = o3d.geometry.VoxelGrid.create_from_triangle_mesh(mesh, voxel_size=1)\n",
    "\n",
    "            voxels = []\n",
    "\n",
    "            for voxel in voxel_grid.get_voxels():\n",
    "                x, y, z = voxel_grid.get_voxel_center_coordinate(voxel.grid_index)\n",
    "\n",
    "                grid_index_x = int((x + RESOLUTION / 2))\n",
    "                grid_index_y = int((y + RESOLUTION / 2))\n",
    "                grid_index_z = int((z + RESOLUTION / 2))\n",
    "\n",
    "                grid_index_x = max(0, min(grid_index_x, RESOLUTION - 1))\n",
    "                grid_index_y = max(0, min(grid_index_y, RESOLUTION - 1))\n",
    "                grid_index_z = max(0, min(grid_index_z, RESOLUTION - 1))\n",
    "\n",
    "                voxels.append([grid_index_x, grid_index_y, grid_index_z])\n",
    "\n",
    "            all_voxels[-1].append(voxels)\n",
    "\n",
    "    for combined in tqdm(all_voxels, desc=\"Saving Voxels\"):\n",
    "        for voxels in combined:\n",
    "            vox_np_pth = os.path.join(VOX_PTH, str(obj_ct))\n",
    "            obj_ct += 1\n",
    "            np.save(vox_np_pth, voxels)"
   ]
  },
  {
   "cell_type": "code",
   "execution_count": null,
   "metadata": {},
   "outputs": [],
   "source": [
    "dir_number_with_chair = np.load('.\\\\dataset\\\\dir_number_with_chair.npy')\n",
    "\n",
    "objs_count = []\n",
    "\n",
    "for dir_number in dir_number_with_chair:\n",
    "    dir_pth = os.path.join(DATA_PTH, str(dir_number))\n",
    "    obj_dir_pth = os.path.join(dir_pth, 'objs')\n",
    "    objs_count.append(len(os.listdir(obj_dir_pth)))\n",
    "    \n",
    "np.save('.\\\\dataset\\\\each_chair_parts_count', np.array(objs_count, dtype=np.int32))"
   ]
  },
  {
   "cell_type": "code",
   "execution_count": null,
   "metadata": {},
   "outputs": [],
   "source": [
    "def get_outlier_indices(arr):\n",
    "    Q1 = np.percentile(arr, 25)\n",
    "    Q3 = np.percentile(arr, 75)\n",
    "    \n",
    "    IQR = Q3 - Q1\n",
    "    \n",
    "    lower_bound = Q1 - 1.5 * IQR\n",
    "    upper_bound = Q3 + 1.5 * IQR\n",
    "    \n",
    "    outlier_indices = np.where((arr < lower_bound) | (arr > upper_bound))[0]\n",
    "    \n",
    "    return outlier_indices\n",
    "\n",
    "each_chair_parts_count = np.load('.\\\\dataset\\\\each_chair_parts_count.npy')\n",
    "\n",
    "outlier_indices = get_outlier_indices(each_chair_parts_count)\n",
    "\n",
    "np.save('.\\\\dataset\\\\outlier_indices', outlier_indices)"
   ]
  }
 ],
 "metadata": {
  "kernelspec": {
   "display_name": "lab",
   "language": "python",
   "name": "python3"
  },
  "language_info": {
   "codemirror_mode": {
    "name": "ipython",
    "version": 3
   },
   "file_extension": ".py",
   "mimetype": "text/x-python",
   "name": "python",
   "nbconvert_exporter": "python",
   "pygments_lexer": "ipython3",
   "version": "3.8.19"
  }
 },
 "nbformat": 4,
 "nbformat_minor": 2
}
