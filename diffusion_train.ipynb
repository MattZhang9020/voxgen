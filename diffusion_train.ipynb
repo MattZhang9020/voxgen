{
 "cells": [
  {
   "cell_type": "code",
   "execution_count": null,
   "metadata": {},
   "outputs": [],
   "source": [
    "import sys\n",
    "sys.dont_write_bytecode=True\n",
    "\n",
    "import os\n",
    "\n",
    "import torch\n",
    "\n",
    "from modules import VoxelDataset\n",
    "from modules import Encoder\n",
    "from modules import Diffusion\n",
    "from modules import DiffusionTrainer\n",
    "from modules import dataloader_collate_fn, get_voxel_map\n",
    "\n",
    "from torch import optim\n",
    "from torch.utils.data import DataLoader\n",
    "from torch.backends import cudnn\n",
    "\n",
    "from tqdm import tqdm\n",
    "\n",
    "cudnn.benchmark = True\n",
    "\n",
    "device = 'cuda'"
   ]
  },
  {
   "cell_type": "code",
   "execution_count": null,
   "metadata": {},
   "outputs": [],
   "source": [
    "pram = {\n",
    "    'data_dir_pth': './dataset/chair_voxel_data_remove_duplicate',\n",
    "    'part_counts_npy_pth': './dataset/each_chair_parts_count_remove_duplicate.npy',\n",
    "    'outlier_objt_indices_npy_pth': './dataset/outlier_objt_indices.npy',\n",
    "    'batch_size': 1,\n",
    "    'voxel_map_shape': (128, 128, 128),\n",
    "    'designate_num_objts': 10,\n",
    "    'train_test_split_ratio_train': 1,\n",
    "    'latent_dim': (64, 64),\n",
    "    'diffusion_lr': 3e-5,\n",
    "    'beta_start': 1e-4,\n",
    "    'beta_end': 2e-2,\n",
    "    'time_steps': 1000,\n",
    "    'warmup': 10\n",
    "}"
   ]
  },
  {
   "cell_type": "code",
   "execution_count": null,
   "metadata": {},
   "outputs": [],
   "source": [
    "train_dataset = VoxelDataset(pram['data_dir_pth'],\n",
    "                             pram['part_counts_npy_pth'],\n",
    "                             pram['outlier_objt_indices_npy_pth'],\n",
    "                             designate_num_objts=pram['designate_num_objts'],\n",
    "                             train_test_split_ratio_train=pram['train_test_split_ratio_train'],\n",
    "                             is_train=True)\n",
    "\n",
    "train_dataloader = DataLoader(train_dataset,\n",
    "                              batch_size=pram['batch_size'],\n",
    "                              shuffle=False,\n",
    "                              collate_fn=dataloader_collate_fn,\n",
    "                              pin_memory=True)"
   ]
  },
  {
   "cell_type": "code",
   "execution_count": null,
   "metadata": {},
   "outputs": [],
   "source": [
    "encoder = Encoder(pram['latent_dim'], ve_ch=8).to(device)\n",
    "\n",
    "saved_ckpt = torch.load('./models/encoder_decoder_8.pt')\n",
    "\n",
    "encoder.load_state_dict(saved_ckpt['encoder_state_dict'])"
   ]
  },
  {
   "cell_type": "code",
   "execution_count": null,
   "metadata": {},
   "outputs": [],
   "source": [
    "diffusion = Diffusion().to(device)"
   ]
  },
  {
   "cell_type": "code",
   "execution_count": null,
   "metadata": {},
   "outputs": [],
   "source": [
    "def warmup_lr(step):\n",
    "    return min(step, pram['warmup']) / pram['warmup']"
   ]
  },
  {
   "cell_type": "code",
   "execution_count": null,
   "metadata": {},
   "outputs": [],
   "source": [
    "diffusion_optim = optim.AdamW(diffusion.parameters(), lr=pram['diffusion_lr'])\n",
    "\n",
    "diffusion_sched = torch.optim.lr_scheduler.LambdaLR(diffusion_optim, lr_lambda=warmup_lr)"
   ]
  },
  {
   "cell_type": "code",
   "execution_count": null,
   "metadata": {},
   "outputs": [],
   "source": [
    "trainer = DiffusionTrainer(diffusion,\n",
    "                           pram['beta_start'],\n",
    "                           pram['beta_end'],\n",
    "                           pram['time_steps']).to(device)"
   ]
  },
  {
   "cell_type": "code",
   "execution_count": null,
   "metadata": {},
   "outputs": [],
   "source": [
    "def train_step(latents):\n",
    "    diffusion_optim.zero_grad()\n",
    "        \n",
    "    loss = trainer(latents)\n",
    "    loss.backward()\n",
    "    \n",
    "    diffusion_optim.step()\n",
    "    diffusion_sched.step()\n",
    "    \n",
    "    return loss.item()"
   ]
  },
  {
   "cell_type": "code",
   "execution_count": null,
   "metadata": {},
   "outputs": [],
   "source": [
    "def train(train_dataloader, epoch, batch_size, voxel_map_shape=(128, 128, 128)):    \n",
    "    tatal_loss = []\n",
    "    \n",
    "    pbar = tqdm(train_dataloader, desc='[EPOCH {}] Training'.format(epoch))\n",
    "    \n",
    "    for parts in pbar:\n",
    "        voxel_maps = [get_voxel_map(voxel_coords, device) for voxel_coords in parts]\n",
    "            \n",
    "        latents = encoder(torch.stack(voxel_maps).view(batch_size, 1, *voxel_map_shape))\n",
    "\n",
    "        loss = trainer(latents)\n",
    "                \n",
    "        tatal_loss.append(loss)\n",
    "\n",
    "        avg_loss = sum(tatal_loss) / len(tatal_loss)\n",
    "\n",
    "        pbar.set_postfix_str('Batch Loss: {:.6f} | Avg Loss: {:.6f}'.format(loss, avg_loss))\n",
    "    \n",
    "    return avg_loss"
   ]
  },
  {
   "cell_type": "code",
   "execution_count": null,
   "metadata": {},
   "outputs": [],
   "source": [
    "epoch = 0\n",
    "best_avg_loss = float('inf')\n",
    "no_improvement_cnt = 0\n",
    "\n",
    "encoder.eval()\n",
    "diffusion.train()\n",
    "\n",
    "if not os.path.isdir('./models'):\n",
    "    os.mkdir('./models')\n",
    "\n",
    "batch_size = pram['batch_size']\n",
    "\n",
    "train_epochs = 5\n",
    "\n",
    "while epoch < train_epochs:\n",
    "    epoch += 1\n",
    "\n",
    "    avg_loss = train(train_dataloader, epoch, batch_size)\n",
    "        \n",
    "    if avg_loss < best_avg_loss:\n",
    "        best_avg_loss = avg_loss\n",
    "        no_improvement_cnt = 0\n",
    "        \n",
    "        torch.save({\n",
    "            'diffusion_state_dict': diffusion.state_dict(),\n",
    "            'loss': avg_loss,\n",
    "            'epoch': epoch\n",
    "        }, f'./models/diffusion_saved.pt')\n",
    "    else:\n",
    "        no_improvement_cnt += 1\n",
    "\n",
    "    if no_improvement_cnt == 3:\n",
    "        print('No Improvement Count Reached.')\n",
    "        break"
   ]
  }
 ],
 "metadata": {
  "kernelspec": {
   "display_name": "lab",
   "language": "python",
   "name": "python3"
  },
  "language_info": {
   "codemirror_mode": {
    "name": "ipython",
    "version": 3
   },
   "file_extension": ".py",
   "mimetype": "text/x-python",
   "name": "python",
   "nbconvert_exporter": "python",
   "pygments_lexer": "ipython3",
   "version": "3.8.19"
  }
 },
 "nbformat": 4,
 "nbformat_minor": 2
}
