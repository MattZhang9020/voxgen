{
 "cells": [
  {
   "cell_type": "code",
   "execution_count": null,
   "metadata": {},
   "outputs": [],
   "source": [
    "import sys\n",
    "sys.dont_write_bytecode=True\n",
    "\n",
    "import os\n",
    "\n",
    "import torch\n",
    "\n",
    "import numpy as np\n",
    "\n",
    "from modules import VoxelDataset\n",
    "from modules import Decoder, LatentVariables, BCELoss\n",
    "from modules import plot_objt_by_dataset, plot_objt_by_decoder, plot_part_by_voxel_coords, dataloader_collate_fn, get_voxel_map\n",
    "\n",
    "from torch import optim\n",
    "from torch import nn\n",
    "from torch.utils.data import DataLoader, Subset\n",
    "\n",
    "from tqdm import tqdm\n",
    "\n",
    "device = 'cuda'"
   ]
  },
  {
   "cell_type": "code",
   "execution_count": null,
   "metadata": {},
   "outputs": [],
   "source": [
    "dataset_pram = {\n",
    "    'data_dir_pth': './dataset/chair_voxel_data_remove_duplicate',\n",
    "    'part_counts_npy_pth': './dataset/each_chair_parts_count_remove_duplicate.npy',\n",
    "    'outlier_objt_indices_npy_pth': './dataset/outlier_objt_indices.npy',\n",
    "    'batch_size': 1,\n",
    "    'voxel_map_shape': (128, 128, 128),\n",
    "    'train_test_split_ratio_train': 1\n",
    "}"
   ]
  },
  {
   "cell_type": "code",
   "execution_count": null,
   "metadata": {},
   "outputs": [],
   "source": [
    "dataset = VoxelDataset(dataset_pram['data_dir_pth'],\n",
    "                       dataset_pram['part_counts_npy_pth'],\n",
    "                       dataset_pram['outlier_objt_indices_npy_pth'],\n",
    "                       designate_num_objts=1)\n",
    "\n",
    "train_size = int(len(dataset) * dataset_pram['train_test_split_ratio_train'])\n",
    "test_size = len(dataset) - train_size\n",
    "\n",
    "print(f'Training dataset size: {train_size} parts; Testing dataset size: {test_size} parts')\n",
    "\n",
    "train_dataset = Subset(dataset, range(train_size))\n",
    "test_dataset = Subset(dataset, range(train_size, train_size + test_size))\n",
    "\n",
    "train_dataloader = DataLoader(train_dataset, batch_size=dataset_pram['batch_size'], shuffle=False, collate_fn=dataloader_collate_fn)\n",
    "test_dataloader = DataLoader(test_dataset, batch_size=1, shuffle=False, collate_fn=dataloader_collate_fn)"
   ]
  },
  {
   "cell_type": "code",
   "execution_count": null,
   "metadata": {},
   "outputs": [],
   "source": [
    "model_pram = {\n",
    "    'num_parts': len(train_dataset.indices),\n",
    "    'latent_dim': (1, 64, 64),\n",
    "    'decoder_lr': 1e-4,\n",
    "    'latent_lr': 3e-4,\n",
    "}"
   ]
  },
  {
   "cell_type": "code",
   "execution_count": null,
   "metadata": {},
   "outputs": [],
   "source": [
    "decoder = Decoder(model_pram['latent_dim']).to(device)\n",
    "\n",
    "latent_vars = LatentVariables(model_pram['num_parts'], model_pram['latent_dim']).to(device)"
   ]
  },
  {
   "cell_type": "code",
   "execution_count": null,
   "metadata": {},
   "outputs": [],
   "source": [
    "decoder_optim = optim.AdamW(decoder.parameters(), lr=model_pram['decoder_lr'])\n",
    "\n",
    "latent_optim = optim.AdamW(latent_vars.parameters(), lr=model_pram['decoder_lr'])"
   ]
  },
  {
   "cell_type": "code",
   "execution_count": null,
   "metadata": {},
   "outputs": [],
   "source": [
    "loss_fn = BCELoss(gamma=0.8)"
   ]
  },
  {
   "cell_type": "code",
   "execution_count": null,
   "metadata": {},
   "outputs": [],
   "source": [
    "def train_step(indices, targets):\n",
    "    decoder_optim.zero_grad()\n",
    "    latent_optim.zero_grad()\n",
    "\n",
    "    latent = latent_vars(indices)\n",
    "    outputs = decoder(latent)\n",
    "        \n",
    "    loss = loss_fn(outputs, targets, logits=True)\n",
    "    loss.backward()\n",
    "    \n",
    "    torch.nn.utils.clip_grad_norm_(decoder.parameters(), max_norm=1.0)\n",
    "    torch.nn.utils.clip_grad_norm_(latent_vars.parameters(), max_norm=1.0)\n",
    "    \n",
    "    decoder_optim.step()\n",
    "    latent_optim.step()\n",
    "\n",
    "    return loss"
   ]
  },
  {
   "cell_type": "code",
   "execution_count": null,
   "metadata": {},
   "outputs": [],
   "source": [
    "epoch = 0\n",
    "best_avg_loss = float('inf')\n",
    "no_improvement_cnt = 0\n",
    "\n",
    "if not os.path.isdir('./models'):\n",
    "    os.mkdir('./models')\n",
    "\n",
    "batch_size = dataset_pram['batch_size']\n",
    "voxel_map_shape = dataset_pram['voxel_map_shape']\n",
    "\n",
    "train_epochs = 999\n",
    "\n",
    "while epoch < train_epochs:\n",
    "    epoch += 1\n",
    "    \n",
    "    tatal_loss = []\n",
    "    \n",
    "    decoder.train()\n",
    "\n",
    "    pbar = tqdm(train_dataloader, desc='[EPOCH {}]'.format(epoch))\n",
    "    \n",
    "    for i, parts in enumerate(pbar):\n",
    "        indices = [idx for idx in range(i*batch_size, i*batch_size+batch_size)]\n",
    "\n",
    "        voxel_maps = [get_voxel_map(voxel_coords, device) for voxel_coords in parts]\n",
    "                \n",
    "        targets = torch.stack(voxel_maps).view(batch_size, 1, *voxel_map_shape)\n",
    "\n",
    "        loss = train_step(indices, targets)\n",
    "\n",
    "        tatal_loss.append(loss)\n",
    "\n",
    "        avg_loss = sum(tatal_loss) / len(tatal_loss)\n",
    "\n",
    "        pbar.set_postfix_str('Batch Loss: {:.6f} | Avg Loss: {:.6f}'.format(loss, avg_loss))\n",
    "\n",
    "    if avg_loss < best_avg_loss:\n",
    "        best_avg_loss = avg_loss\n",
    "        no_improvement_cnt = 0\n",
    "        \n",
    "        torch.save({\n",
    "            'decoder_state_dict': decoder.state_dict(),\n",
    "            'latent_vars_state_dict': latent_vars.state_dict(),\n",
    "            'loss': avg_loss,\n",
    "            'epoch': epoch\n",
    "        }, f'./models/decoder_saved.pt')\n",
    "    else:\n",
    "        no_improvement_cnt += 1\n",
    "\n",
    "    if no_improvement_cnt == 10:\n",
    "        print('No Improvement Count Reached.')\n",
    "        break"
   ]
  },
  {
   "cell_type": "code",
   "execution_count": null,
   "metadata": {},
   "outputs": [],
   "source": [
    "saved = torch.load(f'./models/decoder_saved.pt')"
   ]
  },
  {
   "cell_type": "code",
   "execution_count": null,
   "metadata": {},
   "outputs": [],
   "source": [
    "decoder.load_state_dict(saved['decoder_state_dict'])\n",
    "latent_vars.load_state_dict(saved['latent_vars_state_dict'])"
   ]
  },
  {
   "cell_type": "code",
   "execution_count": null,
   "metadata": {},
   "outputs": [],
   "source": [
    "torch.max(nn.Sigmoid()(decoder(latent_vars.latents[0][None,:])))"
   ]
  },
  {
   "cell_type": "code",
   "execution_count": null,
   "metadata": {},
   "outputs": [],
   "source": [
    "plot_objt_by_decoder(decoder, latent_vars, dataset.each_chair_part_counts, 0, 0.9)"
   ]
  }
 ],
 "metadata": {
  "kernelspec": {
   "display_name": "lab",
   "language": "python",
   "name": "python3"
  },
  "language_info": {
   "codemirror_mode": {
    "name": "ipython",
    "version": 3
   },
   "file_extension": ".py",
   "mimetype": "text/x-python",
   "name": "python",
   "nbconvert_exporter": "python",
   "pygments_lexer": "ipython3",
   "version": "3.8.19"
  }
 },
 "nbformat": 4,
 "nbformat_minor": 2
}
