{
 "cells": [
  {
   "cell_type": "code",
   "execution_count": null,
   "metadata": {},
   "outputs": [],
   "source": [
    "import sys\n",
    "sys.dont_write_bytecode=True\n",
    "\n",
    "import torch\n",
    "\n",
    "from modules import VoxelDataset\n",
    "from modules import Decoder\n",
    "from modules import plot_objt, dataloader_collate_fn, get_occurrence_map\n",
    "\n",
    "from torch.utils.data import DataLoader\n",
    "from torchsummary import summary\n",
    "\n",
    "from tqdm import tqdm\n",
    "\n",
    "device = 'cuda'"
   ]
  },
  {
   "cell_type": "code",
   "execution_count": null,
   "metadata": {},
   "outputs": [],
   "source": [
    "dataset_pram = {\n",
    "    'data_dir_pth': './dataset/chair_voxel_data_remove_duplicate',\n",
    "    'part_counts_npy_pth': './dataset/each_chair_parts_count_remove_duplicate.npy',\n",
    "    'outlier_objt_indices_npy_pth': './dataset/outlier_objt_indices.npy',\n",
    "    'batch_size': 1,\n",
    "    'voxel_map_shape': (128, 128, 128)\n",
    "}"
   ]
  },
  {
   "cell_type": "code",
   "execution_count": null,
   "metadata": {},
   "outputs": [],
   "source": [
    "train_dataset = VoxelDataset(dataset_pram['data_dir_pth'], dataset_pram['part_counts_npy_pth'], dataset_pram['outlier_objt_indices_npy_pth'])\n",
    "\n",
    "train_dataloader = DataLoader(train_dataset, batch_size=dataset_pram['batch_size'], shuffle=False, collate_fn=dataloader_collate_fn)"
   ]
  },
  {
   "cell_type": "code",
   "execution_count": null,
   "metadata": {},
   "outputs": [],
   "source": [
    "model_pram = {\n",
    "    'num_parts': train_dataset.num_parts,\n",
    "    'latent_dim': (1, 16, 16, 16),\n",
    "    'decoder_lr': 3e-5,\n",
    "    'latent_lr': 3e-5,\n",
    "}"
   ]
  },
  {
   "cell_type": "code",
   "execution_count": null,
   "metadata": {},
   "outputs": [],
   "source": [
    "decoder = Decoder(model_pram).to(device)"
   ]
  },
  {
   "cell_type": "code",
   "execution_count": null,
   "metadata": {},
   "outputs": [],
   "source": [
    "epoch = 1\n",
    "best_avg_loss = float('inf')\n",
    "no_improvement_cnt = 0\n",
    "\n",
    "batch_size = dataset_pram['batch_size']\n",
    "voxel_map_shape = dataset_pram['voxel_map_shape']\n",
    "\n",
    "while True:\n",
    "    tatal_loss = []\n",
    "\n",
    "    pbar = tqdm(train_dataloader, desc='[EPOCH {}]'.format(epoch))\n",
    "\n",
    "    for i, parts in enumerate(pbar):\n",
    "        indices = [idx for idx in range(i*batch_size, i*batch_size+batch_size)]\n",
    "        \n",
    "        occurrence_maps = [get_occurrence_map(voxel_coords) for voxel_coords in parts]\n",
    "        labels = torch.stack(occurrence_maps).view(batch_size, 1, *voxel_map_shape).to(device)\n",
    "                    \n",
    "        loss = decoder.train_step(indices, labels)\n",
    "        \n",
    "        tatal_loss.append(loss)\n",
    "        \n",
    "        avg_loss = sum(tatal_loss) / len(tatal_loss)\n",
    "        \n",
    "        pbar.set_postfix_str('Batch Loss: {:.4f} | Avg Loss: {:.4f}'.format(loss, avg_loss))\n",
    "    \n",
    "    if avg_loss < best_avg_loss:\n",
    "        best_avg_loss = avg_loss\n",
    "    else:\n",
    "        no_improvement_cnt += 1\n",
    "    \n",
    "    if no_improvement_cnt == 3:\n",
    "        print('No Improvement Count Reached.')\n",
    "        break\n",
    "    \n",
    "    epoch += 1"
   ]
  }
 ],
 "metadata": {
  "kernelspec": {
   "display_name": "lab",
   "language": "python",
   "name": "python3"
  },
  "language_info": {
   "codemirror_mode": {
    "name": "ipython",
    "version": 3
   },
   "file_extension": ".py",
   "mimetype": "text/x-python",
   "name": "python",
   "nbconvert_exporter": "python",
   "pygments_lexer": "ipython3",
   "version": "3.8.19"
  }
 },
 "nbformat": 4,
 "nbformat_minor": 2
}
